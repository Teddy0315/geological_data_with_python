{
 "cells": [
  {
   "cell_type": "markdown",
   "metadata": {},
   "source": [
    "# 파이썬 둘러보기\n",
    "\n",
    "- 첫번째 시간은 파이썬에서 주로 사용하는 기능들을 소개함\n",
    "- 간단한 코드를 작성하여 전체적으로 훑어보겠음\n",
    "- <strong>\"백문이 불여일견, 백견이 불여일타\"</strong>\n"
   ]
  },
  {
   "cell_type": "markdown",
   "metadata": {},
   "source": [
    "- Jupyter notebook은 대화형 인터프리터\n",
    "- 코드작성후 실행하면 바로 결과값이 출력\n",
    "- 입력과 출력이 번갈아 이어지는것이 대화하는것처럼 느껴짐\n",
    "- 따라서 **대화형** 인터프리터라고 부름."
   ]
  },
  {
   "cell_type": "code",
   "execution_count": 1,
   "metadata": {},
   "outputs": [
    {
     "output_type": "execute_result",
     "data": {
      "text/plain": "2"
     },
     "metadata": {},
     "execution_count": 1
    }
   ],
   "source": [
    "1 + 1"
   ]
  },
  {
   "cell_type": "markdown",
   "metadata": {},
   "source": [
    "- 위의 결과 값처럼 한줄 한줄 작성후 결과를 바로 볼 수 있음\n",
    "- 따라서 Jupyter notebook은 코드와 친숙하지 않은 과학자들에게 유용하게 작용됨"
   ]
  },
  {
   "cell_type": "markdown",
   "metadata": {},
   "source": [
    "## 파이썬 기초 문법 따라 해보기\n",
    "\n",
    "### 사칙연산\n",
    "\n",
    "- 더하기 연산은 보통 계산기를 사용하듯 더하기 기호만 넣어주면 됨."
   ]
  },
  {
   "cell_type": "code",
   "execution_count": 1,
   "metadata": {},
   "outputs": [
    {
     "output_type": "execute_result",
     "data": {
      "text/plain": "3"
     },
     "metadata": {},
     "execution_count": 1
    }
   ],
   "source": [
    "1 + 2"
   ]
  },
  {
   "cell_type": "markdown",
   "metadata": {},
   "source": [
    "- **나눗셈**(/) 과 **곱셈**(*) 도 마찬가지로 적용됨."
   ]
  },
  {
   "cell_type": "code",
   "execution_count": 1,
   "metadata": {},
   "outputs": [
    {
     "output_type": "execute_result",
     "data": {
      "text/plain": "1.25"
     },
     "metadata": {},
     "execution_count": 1
    }
   ],
   "source": [
    "3 / 2.4"
   ]
  },
  {
   "cell_type": "code",
   "execution_count": 2,
   "metadata": {},
   "outputs": [
    {
     "output_type": "execute_result",
     "data": {
      "text/plain": "27"
     },
     "metadata": {},
     "execution_count": 2
    }
   ],
   "source": [
    "3 * 9"
   ]
  },
  {
   "cell_type": "markdown",
   "metadata": {},
   "source": [
    "### 변수 숫자 대입하고 계산하기\n",
    "\n",
    "- a에 1을 b에 2를 대입\n",
    "- 그 다음 a와 b를 더하면 3이라는 결과값을 보여줌."
   ]
  },
  {
   "cell_type": "code",
   "execution_count": 3,
   "metadata": {},
   "outputs": [
    {
     "output_type": "execute_result",
     "data": {
      "text/plain": "3"
     },
     "metadata": {},
     "execution_count": 3
    }
   ],
   "source": [
    "a = 1\n",
    "b = 2\n",
    "a + b"
   ]
  },
  {
   "cell_type": "markdown",
   "metadata": {},
   "source": [
    "### 변수에 문자 대입하고 출력하기\n",
    "\n",
    "- a 변수에 \"Hello wordl!\" 를 대입.\n",
    "- a 변수를 출력하면 다음과 같은 결과를 보여줌."
   ]
  },
  {
   "cell_type": "markdown",
   "metadata": {},
   "source": [
    "## "
   ]
  },
  {
   "cell_type": "code",
   "execution_count": 2,
   "metadata": {},
   "outputs": [
    {
     "output_type": "stream",
     "name": "stdout",
     "text": "Hello word!\n"
    }
   ],
   "source": [
    "a = \"Hello world!\"\n",
    "print(a)"
   ]
  },
  {
   "cell_type": "markdown",
   "metadata": {},
   "source": [
    "- print문을 생략하고 a만 입력해도 a값을 출력"
   ]
  },
  {
   "cell_type": "code",
   "execution_count": 8,
   "metadata": {},
   "outputs": [
    {
     "output_type": "execute_result",
     "data": {
      "text/plain": "'Hello world!'"
     },
     "metadata": {},
     "execution_count": 8
    }
   ],
   "source": [
    "a = \"Hello world!\"\n",
    "a"
   ]
  },
  {
   "cell_type": "markdown",
   "metadata": {},
   "source": [
    "- print문 안에 바로 문자열을 넣어서 출력도 가능."
   ]
  },
  {
   "cell_type": "code",
   "execution_count": 5,
   "metadata": {},
   "outputs": [
    {
     "output_type": "stream",
     "name": "stdout",
     "text": "Hello world!\n"
    }
   ],
   "source": [
    "print(\"Hello world!\")"
   ]
  },
  {
   "cell_type": "markdown",
   "metadata": {},
   "source": [
    "### 조건문 if\n",
    "\n",
    "- 다음은 간단한 조건문 if를 사용한 예제임"
   ]
  },
  {
   "cell_type": "code",
   "execution_count": 12,
   "metadata": {},
   "outputs": [
    {
     "output_type": "stream",
     "name": "stdout",
     "text": "a is greater than 1\n"
    }
   ],
   "source": [
    "a = 3\n",
    "if a > 1:\n",
    "    print(\"a is greater than 1\") # 항상 들여쓰기를 해야함."
   ]
  },
  {
   "cell_type": "markdown",
   "metadata": {},
   "source": [
    "### 반복문 for \n",
    "\n",
    "- for을 사용해서 [[1,2,3]]안의 값을 하나씩 출력하는 예제임"
   ]
  },
  {
   "cell_type": "code",
   "execution_count": 13,
   "metadata": {},
   "outputs": [
    {
     "output_type": "stream",
     "name": "stdout",
     "text": "1\n2\n3\n"
    }
   ],
   "source": [
    "for a in [1, 2, 3] :\n",
    "    print(a) # 항상 들여쓰기 해야함."
   ]
  },
  {
   "cell_type": "markdown",
   "metadata": {},
   "source": [
    "- 위 코드의 의미는 []안의 값을 하나씩 출력해라 임.\n",
    "- a안에 []의 값이 차례대로 대입되며 출력됨."
   ]
  },
  {
   "cell_type": "markdown",
   "metadata": {},
   "source": [
    "### 반복문 while\n",
    "- 반복문 for 과는 조금 다르지만 쓰임은 비슷"
   ]
  },
  {
   "cell_type": "code",
   "execution_count": 17,
   "metadata": {},
   "outputs": [
    {
     "output_type": "stream",
     "name": "stdout",
     "text": "1\n2\n3\n"
    }
   ],
   "source": [
    "i = 0\n",
    "while i < 3:\n",
    "    i = i + 1 # 들여쓰기 \n",
    "    print(i) # 들여쓰기"
   ]
  },
  {
   "cell_type": "markdown",
   "metadata": {},
   "source": [
    "- while은 영어로 ~동안 이라는 뜻임.\n",
    "- i 가 3보다 작은 값을 갖는동안 반복하여 i를 출력함."
   ]
  },
  {
   "cell_type": "markdown",
   "metadata": {},
   "source": [
    "### 함수\n",
    "- 파이썬에서 함수형태는 다음과 같이 사용됨"
   ]
  },
  {
   "cell_type": "code",
   "execution_count": 18,
   "metadata": {},
   "outputs": [
    {
     "output_type": "execute_result",
     "data": {
      "text/plain": "7"
     },
     "metadata": {},
     "execution_count": 18
    }
   ],
   "source": [
    "def add(a, b) :\n",
    "    return a + b \n",
    "\n",
    "add(3, 4)"
   ]
  },
  {
   "cell_type": "markdown",
   "metadata": {},
   "source": [
    "- def는 함수를 만들 떄 사용하는 명렁이임.\n",
    "- 함수를 통해 한번만든 코드를 재사용하여 사용할 수 있음."
   ]
  },
  {
   "cell_type": "code",
   "execution_count": null,
   "metadata": {},
   "outputs": [],
   "source": []
  }
 ],
 "metadata": {
  "language_info": {
   "codemirror_mode": {
    "name": "ipython",
    "version": 3
   },
   "file_extension": ".py",
   "mimetype": "text/x-python",
   "name": "python",
   "nbconvert_exporter": "python",
   "pygments_lexer": "ipython3",
   "version": "3.7.6-final"
  },
  "orig_nbformat": 2,
  "kernelspec": {
   "name": "python3",
   "display_name": "Python 3"
  }
 },
 "nbformat": 4,
 "nbformat_minor": 2
}