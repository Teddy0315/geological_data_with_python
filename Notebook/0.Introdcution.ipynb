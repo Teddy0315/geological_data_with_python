{
 "cells": [
  {
   "cell_type": "markdown",
   "metadata": {},
   "source": [
    "# 파이썬 둘러보기\n",
    "\n",
    "첫번째 시간은 파이썬이라는 언어는 어떻게 생겼는지, 간단한 코드를 작성하며 알아보는 시간을 갖겠습니다. \n",
    "파이썬을 자세히 탐구하기 전에 전체 모습을 죽 훑어보는것은 매우 중요한 일이 되겠죠.\n",
    "<strong>\"백문이 불여일견, 백견이 불여일타\"</strong> 라고 했습니다.\n",
    "직접 따라 해봅시다.\n"
   ]
  },
  {
   "cell_type": "markdown",
   "metadata": {},
   "source": [
    "여러분들이 Miniconda를 설치후 Jupyter notebook 까지 실행했으면 벌써 파이썬의 반이나 시작한것입니다. 축하합니다 !\n",
    "Jupyter notebook은 대화형 인터프리터로써 코드작성후 실행을 하면 바로 결과값이 출력됩니다.\n",
    "이렇게 입력과 출력이 번갈아 이어지는것이 마치 대화하는것처럼 느겨지기 때문에 '대화형' 인터프리터라고 부릅니다.\n",
    "\n",
    "그러면 다음과 같은 간단한 수식을 입력해 봅시다."
   ]
  },
  {
   "cell_type": "code",
   "execution_count": 1,
   "metadata": {},
   "outputs": [
    {
     "output_type": "execute_result",
     "data": {
      "text/plain": "2"
     },
     "metadata": {},
     "execution_count": 1
    }
   ],
   "source": [
    "1 + 1"
   ]
  },
  {
   "cell_type": "markdown",
   "metadata": {},
   "source": [
    "위의 결과 값 처럼 우리는 긴 글의 코드를 작성후 결과를 보는것이 아닌 한줄 한줄 작성후 결과를 바로 볼 수 있기 때문에 Jupyte notebook은 코드와 친숙하지 않은 과학자들에게 찬사를 받는 프로그램 입니다. "
   ]
  },
  {
   "cell_type": "markdown",
   "metadata": {},
   "source": [
    "## 파이썬 기초 문법 따라 해보기\n",
    "\n",
    "<strong> 사칙연산 </strong>\n",
    "1 더하기 (+) 2는 3이란느 값을 출력해 보겠습니다. 보통 계산기를 사용하듯 더하기 기호만 넣어 주면 됩니다."
   ]
  },
  {
   "cell_type": "code",
   "execution_count": 3,
   "metadata": {},
   "outputs": [
    {
     "output_type": "execute_result",
     "data": {
      "text/plain": "3"
     },
     "metadata": {},
     "execution_count": 3
    }
   ],
   "source": [
    "1 + 2"
   ]
  },
  {
   "cell_type": "markdown",
   "metadata": {},
   "source": [
    "<strong>나눗셈</strong>(/)<strong>과</strong> <strong>곱셈</strong>(*) 역시 예상한 대로 결과값을 보여줍니다."
   ]
  },
  {
   "cell_type": "code",
   "execution_count": 1,
   "metadata": {},
   "outputs": [
    {
     "output_type": "execute_result",
     "data": {
      "text/plain": "1.25"
     },
     "metadata": {},
     "execution_count": 1
    }
   ],
   "source": [
    "3 / 2.4"
   ]
  },
  {
   "cell_type": "code",
   "execution_count": 2,
   "metadata": {},
   "outputs": [
    {
     "output_type": "execute_result",
     "data": {
      "text/plain": "27"
     },
     "metadata": {},
     "execution_count": 2
    }
   ],
   "source": [
    "3 * 9"
   ]
  },
  {
   "cell_type": "markdown",
   "metadata": {},
   "source": [
    "### 변수 숫자 대입하고 계산하기"
   ]
  },
  {
   "cell_type": "code",
   "execution_count": 3,
   "metadata": {},
   "outputs": [
    {
     "output_type": "execute_result",
     "data": {
      "text/plain": "3"
     },
     "metadata": {},
     "execution_count": 3
    }
   ],
   "source": [
    "a = 1\n",
    "b = 2\n",
    "a + b"
   ]
  },
  {
   "cell_type": "markdown",
   "metadata": {},
   "source": [
    "a 에 1을 b에 2를 대입한 다음 a와 b를 더하면 3이라는 결과값을 보여줍니다."
   ]
  },
  {
   "cell_type": "markdown",
   "metadata": {},
   "source": [
    "### 변수에 문자 대입하고 출력하기"
   ]
  },
  {
   "cell_type": "code",
   "execution_count": 5,
   "metadata": {},
   "outputs": [
    {
     "output_type": "stream",
     "name": "stdout",
     "text": "Hello world!\n"
    }
   ],
   "source": [
    "a = \"Hello world!\"\n",
    "print(a)"
   ]
  },
  {
   "cell_type": "markdown",
   "metadata": {},
   "source": [
    "a 변수에 \"Hello world!\" 라는 값을 대입한 다음 **print(a)** 라고 작성하면 a값을 출력합니다.\n",
    "\n",
    "또는 print문을 생략하고 a만 입력해도 값을 출력합니다."
   ]
  },
  {
   "cell_type": "code",
   "execution_count": 6,
   "metadata": {},
   "outputs": [
    {
     "output_type": "execute_result",
     "data": {
      "text/plain": "'Hello world!'"
     },
     "metadata": {},
     "execution_count": 6
    }
   ],
   "source": [
    "a = \"Hello world!\"\n",
    "a"
   ]
  },
  {
   "cell_type": "markdown",
   "metadata": {},
   "source": [
    "아니면 print()문 안에 바로 문자열을 넣어서 출력 시킬수 있죠."
   ]
  },
  {
   "cell_type": "code",
   "execution_count": 7,
   "metadata": {},
   "outputs": [
    {
     "output_type": "stream",
     "name": "stdout",
     "text": "Hello world!\n"
    }
   ],
   "source": [
    "print(\"Hello world!\")"
   ]
  },
  {
   "cell_type": "code",
   "execution_count": null,
   "metadata": {},
   "outputs": [],
   "source": []
  }
 ],
 "metadata": {
  "language_info": {
   "codemirror_mode": {
    "name": "ipython",
    "version": 3
   },
   "file_extension": ".py",
   "mimetype": "text/x-python",
   "name": "python",
   "nbconvert_exporter": "python",
   "pygments_lexer": "ipython3",
   "version": "3.7.6-final"
  },
  "orig_nbformat": 2,
  "kernelspec": {
   "name": "python3",
   "display_name": "Python 3"
  }
 },
 "nbformat": 4,
 "nbformat_minor": 2
}