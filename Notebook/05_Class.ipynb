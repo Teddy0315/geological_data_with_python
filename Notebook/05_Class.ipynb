{
 "cells": [
  {
   "cell_type": "code",
   "execution_count": 1,
   "metadata": {},
   "outputs": [],
   "source": [
    "class Person :\n",
    "    def say_hello(self) :\n",
    "        print('안녕!')"
   ]
  },
  {
   "cell_type": "code",
   "execution_count": 2,
   "metadata": {},
   "outputs": [
    {
     "output_type": "stream",
     "name": "stdout",
     "text": "안녕!\n"
    }
   ],
   "source": [
    " p = Person()\n",
    " p.say_hello()"
   ]
  },
  {
   "cell_type": "code",
   "execution_count": 30,
   "metadata": {},
   "outputs": [],
   "source": [
    "class Person :\n",
    "    def __init__(self, name, age): # init : name이라는 변수 안에 name을 넣어라.\n",
    "        self.name = name\n",
    "        self.age = age\n",
    "\n",
    "    def say_hello(self, to_name) :\n",
    "        print('안녕! ' + to_name +  ' 나는 ' + self.name)\n",
    "\n",
    "    def introduce(self) :\n",
    "        print('내 이름은 ' + self.name, ' 그리고 나는 ' + str(self.age) + ' 살이야!')"
   ]
  },
  {
   "cell_type": "code",
   "execution_count": 31,
   "metadata": {},
   "outputs": [
    {
     "output_type": "stream",
     "name": "stdout",
     "text": "내 이름은 워니  그리고 나는 20 살이야!\n"
    }
   ],
   "source": [
    "wonie = Person('워니', 20)\n",
    "wonie.introduce()"
   ]
  },
  {
   "cell_type": "markdown",
   "metadata": {},
   "source": [
    "## 상속이란"
   ]
  },
  {
   "cell_type": "code",
   "execution_count": 32,
   "metadata": {},
   "outputs": [],
   "source": [
    "class Police(Person) : #Police 라는 class는 person을 상속한다.\n",
    "    def arrest(self, to_aresst) :\n",
    "        print('넌 체포됐다, ' + to_arrest)\n",
    "\n",
    "class Programmer(Person) :\n",
    "    def program(self, to_program) :\n",
    "        print('다음엔 뭘 만들지? 아 이걸 만들어야겠다 : ' + to_program)\n"
   ]
  },
  {
   "cell_type": "code",
   "execution_count": 33,
   "metadata": {},
   "outputs": [],
   "source": [
    "wonie = Person('워니', 20)\n",
    "jenny = Police('제니', 21)"
   ]
  },
  {
   "cell_type": "code",
   "execution_count": 34,
   "metadata": {},
   "outputs": [
    {
     "output_type": "stream",
     "name": "stdout",
     "text": "내 이름은 제니  그리고 나는 21 살이야!\n"
    }
   ],
   "source": [
    "jenny.introduce()"
   ]
  },
  {
   "cell_type": "code",
   "execution_count": null,
   "metadata": {},
   "outputs": [],
   "source": []
  }
 ],
 "metadata": {
  "language_info": {
   "codemirror_mode": {
    "name": "ipython",
    "version": 3
   },
   "file_extension": ".py",
   "mimetype": "text/x-python",
   "name": "python",
   "nbconvert_exporter": "python",
   "pygments_lexer": "ipython3",
   "version": "3.7.6-final"
  },
  "orig_nbformat": 2,
  "kernelspec": {
   "name": "python3",
   "display_name": "Python 3"
  }
 },
 "nbformat": 4,
 "nbformat_minor": 2
}