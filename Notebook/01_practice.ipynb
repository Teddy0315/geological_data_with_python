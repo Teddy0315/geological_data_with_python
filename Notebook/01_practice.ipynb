{
 "cells": [
  {
   "cell_type": "markdown",
   "metadata": {},
   "source": [
    "## 숫자 자료형"
   ]
  },
  {
   "cell_type": "code",
   "execution_count": 2,
   "metadata": {},
   "outputs": [
    {
     "output_type": "stream",
     "name": "stdout",
     "text": "5\n-10\n3.14\n1000\n8\n16\n12\n"
    }
   ],
   "source": [
    "print(5)\n",
    "print(-10)\n",
    "print(3.14)\n",
    "print(1000)\n",
    "print(5+3)\n",
    "print(2*8)\n",
    "print(3*(3+1))"
   ]
  },
  {
   "cell_type": "markdown",
   "metadata": {},
   "source": [
    "## 문자열 자료형"
   ]
  },
  {
   "cell_type": "code",
   "execution_count": 4,
   "metadata": {},
   "outputs": [
    {
     "output_type": "stream",
     "name": "stdout",
     "text": "자동차\n기차\nㅎㅎㅎㅎㅎㅎㅎㅎㅎ\nㅎㅎㅎㅎㅎㅎㅎㅎㅎ\n"
    }
   ],
   "source": [
    "print('자동차')\n",
    "print(\"기차\")\n",
    "print(\"ㅎㅎㅎㅎㅎㅎㅎㅎㅎ\")\n",
    "print(\"ㅎ\"*9)"
   ]
  },
  {
   "cell_type": "markdown",
   "metadata": {},
   "source": [
    "## boolean 자료형"
   ]
  },
  {
   "cell_type": "code",
   "execution_count": 6,
   "metadata": {},
   "outputs": [
    {
     "output_type": "stream",
     "name": "stdout",
     "text": "False\nTrue\nTrue\nFalse\nFalse\nTrue\nFalse\n"
    }
   ],
   "source": [
    "# 참 / 거짓\n",
    "\n",
    "print(5 > 10)\n",
    "print(5 < 10)\n",
    "print(True)\n",
    "print(False)\n",
    "print(not True)\n",
    "print(not False)\n",
    "print(not (5 < 10))"
   ]
  },
  {
   "cell_type": "markdown",
   "metadata": {},
   "source": [
    "# 변수"
   ]
  },
  {
   "cell_type": "code",
   "execution_count": 8,
   "metadata": {},
   "outputs": [
    {
     "output_type": "stream",
     "name": "stdout",
     "text": "우리집 강아지의 이름은 딸기예요\n딸기는 10살이며, 낮잠을 아주 좋아해요\n딸기는 어른일까요? True\n"
    }
   ],
   "source": [
    "# 애완동물을 소개해 주세요~\n",
    "\n",
    "print(\"우리집 강아지의 이름은 딸기예요\")\n",
    "print(\"딸기는 10살이며, 낮잠을 아주 좋아해요\")\n",
    "print(\"딸기는 어른일까요? True\")"
   ]
  },
  {
   "cell_type": "code",
   "execution_count": 9,
   "metadata": {},
   "outputs": [
    {
     "output_type": "stream",
     "name": "stdout",
     "text": "우리집 강아지의 이름은 딸기예요\n딸기는 10살이며, 낮잠을 아주 좋아해요\n딸기는 어른일까요? True\n"
    }
   ],
   "source": [
    "# 애완동물을 소개해 주세요~\n",
    "\n",
    "animal = \"강아지\"\n",
    "name = \"딸기\"\n",
    "age = 10\n",
    "hobby = \"낮잠\"\n",
    "is_adult = age > 3\n",
    "\n",
    "print(\"우리집 \" + animal + \"의 이름은 \" + name + \"예요\")\n",
    "print(\"\" + name + \"는 \" + str(age) + \"살이며, \" + hobby + \"을 아주 좋아해요\")\n",
    "print(\"\" + name + \"는 어른일까요? \" + str(is_adult))"
   ]
  },
  {
   "cell_type": "code",
   "execution_count": 12,
   "metadata": {},
   "outputs": [
    {
     "output_type": "stream",
     "name": "stdout",
     "text": "우리집  강아지 의 이름은  딸기 예요\n 딸기 는  10 살이며,  낮잠 을 아주 좋아해요\n 딸기 는 어른일까요?  True\n"
    }
   ],
   "source": [
    "# 애완동물을 소개해 주세요~\n",
    "\n",
    "animal = \"강아지\"\n",
    "name = \"딸기\"\n",
    "age = 10\n",
    "hobby = \"낮잠\"\n",
    "is_adult = age > 3\n",
    "\n",
    "print(\"우리집 \", animal, \"의 이름은 \", name, \"예요\")\n",
    "print(\"\", name, \"는 \", age, \"살이며, \", hobby, \"을 아주 좋아해요\")\n",
    "print(\"\", name, \"는 어른일까요? \",is_adult )"
   ]
  },
  {
   "cell_type": "markdown",
   "metadata": {},
   "source": [
    "Quiz) 변수를 이용하여 다음 문장을 출력하시오\n",
    "\n",
    "변수명\n",
    ": station\n",
    "\n",
    "변수값\n",
    ": \"화명\", \"서면\", \"대연\" 순서대로 입력\n",
    "\n",
    "출력문장\n",
    ": xx 행 열차가 들어오고 있습니다."
   ]
  },
  {
   "cell_type": "code",
   "execution_count": 15,
   "metadata": {},
   "outputs": [
    {
     "output_type": "stream",
     "name": "stdout",
     "text": "화명행 열차가 들어오고 있습니다.\n서면행 열차가 들어오고 있습니다.\n대연행 열차가 들어오고 있습니다.\n"
    }
   ],
   "source": [
    "station = \"화명\"\n",
    "print(station + \"행 열차가 들어오고 있습니다.\")\n",
    "station = \"서면\"\n",
    "print(station + \"행 열차가 들어오고 있습니다.\")\n",
    "station = \"대연\"\n",
    "print(station + \"행 열차가 들어오고 있습니다.\")"
   ]
  },
  {
   "cell_type": "code",
   "execution_count": null,
   "metadata": {},
   "outputs": [],
   "source": []
  }
 ],
 "metadata": {
  "language_info": {
   "codemirror_mode": {
    "name": "ipython",
    "version": 3
   },
   "file_extension": ".py",
   "mimetype": "text/x-python",
   "name": "python",
   "nbconvert_exporter": "python",
   "pygments_lexer": "ipython3",
   "version": "3.7.6-final"
  },
  "orig_nbformat": 2,
  "kernelspec": {
   "name": "python3",
   "display_name": "Python 3"
  }
 },
 "nbformat": 4,
 "nbformat_minor": 2
}