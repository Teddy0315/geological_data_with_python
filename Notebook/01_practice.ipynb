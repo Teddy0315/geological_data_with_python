{
 "cells": [
  {
   "cell_type": "markdown",
   "metadata": {},
   "source": [
    "<h2>1. pandas 개요</h2>\n",
    "\n",
    "- pandas는 데이터 분석(Data analysis)을 위해 널리 사용되는 파이썬 라이브러리 패키지\n",
    "- anaconda에서 제공되지만, 우리는 miniconda를 다운받았음.\n",
    "- 고로 Jupyter notebook 상에서 다운받아 보도록 하자."
   ]
  },
  {
   "cell_type": "code",
   "execution_count": null,
   "metadata": {},
   "outputs": [],
   "source": []
  }
 ],
 "metadata": {
  "language_info": {
   "codemirror_mode": {
    "name": "ipython",
    "version": 3
   },
   "file_extension": ".py",
   "mimetype": "text/x-python",
   "name": "python",
   "nbconvert_exporter": "python",
   "pygments_lexer": "ipython3",
   "version": 3
  },
  "orig_nbformat": 2
 },
 "nbformat": 4,
 "nbformat_minor": 2
}