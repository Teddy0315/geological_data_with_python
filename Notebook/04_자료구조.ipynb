{
 "cells": [
  {
   "cell_type": "markdown",
   "metadata": {},
   "source": [
    "## 자료구조\n",
    "- 리스트\n",
    "- 튜플\n",
    "- 딕셔너리"
   ]
  },
  {
   "cell_type": "code",
   "execution_count": 6,
   "metadata": {},
   "outputs": [
    {
     "output_type": "stream",
     "name": "stdout",
     "text": "[]\n[]\n"
    }
   ],
   "source": [
    "x = list ()\n",
    "y = []\n",
    "\n",
    "# 둘다 같은 의미\n",
    "\n",
    "print(x)\n",
    "print(y) # element 여러개를 그룹핑 하는 방법"
   ]
  },
  {
   "cell_type": "code",
   "execution_count": 8,
   "metadata": {},
   "outputs": [
    {
     "output_type": "stream",
     "name": "stdout",
     "text": "[1, 2, 3, 4, 'hello', 'world']\n"
    }
   ],
   "source": [
    "x = [1, 2, 3, 4]\n",
    "y = [\"hello\", \"world\"]\n",
    "z = [\"hello\", 1, 2, 3]\n",
    "\n",
    "print(x + y)"
   ]
  },
  {
   "cell_type": "code",
   "execution_count": 9,
   "metadata": {},
   "outputs": [
    {
     "output_type": "stream",
     "name": "stdout",
     "text": "1\n4\n"
    }
   ],
   "source": [
    "x = [1, 2, 3, 4]\n",
    "   # 0  1  2  3\n",
    "\n",
    "print(x[0]) # x에서 첫번째 자리에 있는 원소를 보여줘\n",
    "print(x[3]) # x에서 세번쨰 자리에 있는 원소를 보여줘    "
   ]
  },
  {
   "cell_type": "code",
   "execution_count": 11,
   "metadata": {},
   "outputs": [
    {
     "output_type": "stream",
     "name": "stdout",
     "text": "[1, 2, 3, 4]\n[1, 2, 3, 10]\n"
    }
   ],
   "source": [
    "x = [1, 2, 3, 4]\n",
    "print(x)\n",
    "\n",
    "x[3] = 10 # 세번째 원소를 10으로 바꿔줘\n",
    "print(x)"
   ]
  },
  {
   "cell_type": "code",
   "execution_count": 12,
   "metadata": {},
   "outputs": [
    {
     "output_type": "error",
     "ename": "IndexError",
     "evalue": "list index out of range",
     "traceback": [
      "\u001b[1;31m---------------------------------------------------------------------------\u001b[0m",
      "\u001b[1;31mIndexError\u001b[0m                                Traceback (most recent call last)",
      "\u001b[1;32m<ipython-input-12-cc617a5a3bbf>\u001b[0m in \u001b[0;36m<module>\u001b[1;34m\u001b[0m\n\u001b[0;32m      1\u001b[0m \u001b[0mx\u001b[0m \u001b[1;33m=\u001b[0m \u001b[1;33m[\u001b[0m\u001b[1;36m1\u001b[0m\u001b[1;33m,\u001b[0m \u001b[1;36m2\u001b[0m\u001b[1;33m,\u001b[0m \u001b[1;36m3\u001b[0m\u001b[1;33m,\u001b[0m \u001b[1;36m4\u001b[0m\u001b[1;33m]\u001b[0m\u001b[1;33m\u001b[0m\u001b[1;33m\u001b[0m\u001b[0m\n\u001b[0;32m      2\u001b[0m \u001b[1;33m\u001b[0m\u001b[0m\n\u001b[1;32m----> 3\u001b[1;33m \u001b[0mprint\u001b[0m\u001b[1;33m(\u001b[0m\u001b[0mx\u001b[0m\u001b[1;33m[\u001b[0m\u001b[1;36m4\u001b[0m\u001b[1;33m]\u001b[0m\u001b[1;33m)\u001b[0m \u001b[1;31m# 내가 가지고 있는 list 보다 더 큰 index를 열람 하려고 하면 error 가 뜸\u001b[0m\u001b[1;33m\u001b[0m\u001b[1;33m\u001b[0m\u001b[0m\n\u001b[0m",
      "\u001b[1;31mIndexError\u001b[0m: list index out of range"
     ]
    }
   ],
   "source": [
    "x = [1, 2, 3, 4]\n",
    "\n",
    "print(x[4]) # 내가 가지고 있는 list 보다 더 큰 index를 열람 하려고 하면 error 가 뜸"
   ]
  },
  {
   "cell_type": "code",
   "execution_count": 14,
   "metadata": {},
   "outputs": [
    {
     "output_type": "stream",
     "name": "stdout",
     "text": "4\n"
    }
   ],
   "source": [
    "x = [1, 2, 3, 4]\n",
    "\n",
    "num_elements = len(x)\n",
    "print(num_elements)"
   ]
  },
  {
   "cell_type": "code",
   "execution_count": 16,
   "metadata": {},
   "outputs": [
    {
     "output_type": "stream",
     "name": "stdout",
     "text": "[4, 2, 3, 1]\n[1, 2, 3, 4]\n"
    }
   ],
   "source": [
    "x = [4, 2, 3, 1]\n",
    "print(x)\n",
    "\n",
    "y = sorted(x)\n",
    "print(y)"
   ]
  },
  {
   "cell_type": "code",
   "execution_count": 17,
   "metadata": {},
   "outputs": [
    {
     "output_type": "stream",
     "name": "stdout",
     "text": "10\n"
    }
   ],
   "source": [
    "x = [1, 2, 3, 4]\n",
    "\n",
    "z = sum(x)\n",
    "print(z)"
   ]
  },
  {
   "cell_type": "code",
   "execution_count": 19,
   "metadata": {},
   "outputs": [
    {
     "output_type": "stream",
     "name": "stdout",
     "text": "1\n2\n3\n4\n"
    }
   ],
   "source": [
    "# 반복문을 list와 합쳐서 사용 가능\n",
    "\n",
    "x = [1, 2, 3, 4]\n",
    "\n",
    "for n in x : \n",
    "    print(n) # 엄청 중요한 개념임 !\n"
   ]
  },
  {
   "cell_type": "code",
   "execution_count": 21,
   "metadata": {},
   "outputs": [
    {
     "output_type": "stream",
     "name": "stdout",
     "text": "['hello', 'world']\n['hello', 'world']\n"
    }
   ],
   "source": [
    "y = [\"hello\", \"world\"]\n",
    "\n",
    "for c in y :\n",
    "    print(y)"
   ]
  },
  {
   "cell_type": "code",
   "execution_count": 24,
   "metadata": {},
   "outputs": [
    {
     "output_type": "stream",
     "name": "stdout",
     "text": "2\n0\n"
    }
   ],
   "source": [
    "x = [4, 2, 3, 1]\n",
    "y = [\"hello\", \"world\"]\n",
    "\n",
    "print(x.index(3))\n",
    "print(y.index(\"hello\"))"
   ]
  },
  {
   "cell_type": "code",
   "execution_count": 25,
   "metadata": {},
   "outputs": [
    {
     "output_type": "error",
     "ename": "ValueError",
     "evalue": "'bye' is not in list",
     "traceback": [
      "\u001b[1;31m---------------------------------------------------------------------------\u001b[0m",
      "\u001b[1;31mValueError\u001b[0m                                Traceback (most recent call last)",
      "\u001b[1;32m<ipython-input-25-6266ea67de36>\u001b[0m in \u001b[0;36m<module>\u001b[1;34m\u001b[0m\n\u001b[1;32m----> 1\u001b[1;33m \u001b[0mprint\u001b[0m\u001b[1;33m(\u001b[0m\u001b[0my\u001b[0m\u001b[1;33m.\u001b[0m\u001b[0mindex\u001b[0m\u001b[1;33m(\u001b[0m\u001b[1;34m\"bye\"\u001b[0m\u001b[1;33m)\u001b[0m\u001b[1;33m)\u001b[0m\u001b[1;33m\u001b[0m\u001b[1;33m\u001b[0m\u001b[0m\n\u001b[0m",
      "\u001b[1;31mValueError\u001b[0m: 'bye' is not in list"
     ]
    }
   ],
   "source": [
    "print(y.index(\"bye\"))"
   ]
  },
  {
   "cell_type": "code",
   "execution_count": 27,
   "metadata": {},
   "outputs": [
    {
     "output_type": "stream",
     "name": "stdout",
     "text": "True\nFalse\n"
    }
   ],
   "source": [
    "print(\"hello\" in y)\n",
    "print(\"bye\" in y)"
   ]
  },
  {
   "cell_type": "code",
   "execution_count": 28,
   "metadata": {},
   "outputs": [
    {
     "output_type": "stream",
     "name": "stdout",
     "text": "hello 가 있어요\n"
    }
   ],
   "source": [
    "if \"hello\" in y:\n",
    "    print(\"hello 가 있어요\")\n",
    "else :\n",
    "    print(\"hello 가 없어요\")"
   ]
  },
  {
   "cell_type": "code",
   "execution_count": 30,
   "metadata": {},
   "outputs": [
    {
     "output_type": "stream",
     "name": "stdout",
     "text": "hello 가 없어요\n"
    }
   ],
   "source": [
    "if \"hello\" in x:\n",
    "    print(\"hello 가 있어요\")\n",
    "else :\n",
    "    print(\"hello 가 없어요\")"
   ]
  },
  {
   "cell_type": "markdown",
   "metadata": {},
   "source": [
    "## 튜플"
   ]
  },
  {
   "cell_type": "code",
   "execution_count": 33,
   "metadata": {},
   "outputs": [
    {
     "output_type": "stream",
     "name": "stdout",
     "text": "()\n()\n"
    }
   ],
   "source": [
    "x = tuple()\n",
    "y = ()\n",
    "\n",
    "print(x)\n",
    "print(y)"
   ]
  },
  {
   "cell_type": "code",
   "execution_count": 35,
   "metadata": {},
   "outputs": [
    {
     "output_type": "error",
     "ename": "TypeError",
     "evalue": "'tuple' object does not support item assignment",
     "traceback": [
      "\u001b[1;31m---------------------------------------------------------------------------\u001b[0m",
      "\u001b[1;31mTypeError\u001b[0m                                 Traceback (most recent call last)",
      "\u001b[1;32m<ipython-input-35-e4ac35fedd11>\u001b[0m in \u001b[0;36m<module>\u001b[1;34m\u001b[0m\n\u001b[0;32m      3\u001b[0m \u001b[1;33m\u001b[0m\u001b[0m\n\u001b[0;32m      4\u001b[0m \u001b[0mx\u001b[0m \u001b[1;33m=\u001b[0m \u001b[1;33m(\u001b[0m\u001b[1;36m1\u001b[0m\u001b[1;33m,\u001b[0m \u001b[1;36m2\u001b[0m\u001b[1;33m,\u001b[0m \u001b[1;36m3\u001b[0m\u001b[1;33m)\u001b[0m\u001b[1;33m\u001b[0m\u001b[1;33m\u001b[0m\u001b[0m\n\u001b[1;32m----> 5\u001b[1;33m \u001b[0mx\u001b[0m\u001b[1;33m[\u001b[0m\u001b[1;36m0\u001b[0m\u001b[1;33m]\u001b[0m \u001b[1;33m=\u001b[0m \u001b[1;36m10\u001b[0m\u001b[1;33m\u001b[0m\u001b[1;33m\u001b[0m\u001b[0m\n\u001b[0m",
      "\u001b[1;31mTypeError\u001b[0m: 'tuple' object does not support item assignment"
     ]
    }
   ],
   "source": [
    "# list에 사용하는 명령어들 거의 대부분을 지원함.\n",
    "# 튜플에서 안되는것은 assigment가 안됨\n",
    "\n",
    "# mutalbe (가변, 바꿀수 있는것, list) vs immutalbe(불변, 바꿀수 없는것, tuple) \n",
    "# list 와 tuple의 가장 큰 차이점. 바꿀수 있고 없고\n",
    "x = (1, 2, 3)\n",
    "x[0] = 10"
   ]
  },
  {
   "cell_type": "markdown",
   "metadata": {},
   "source": [
    "## Dictionary\n"
   ]
  },
  {
   "cell_type": "code",
   "execution_count": 36,
   "metadata": {},
   "outputs": [
    {
     "output_type": "stream",
     "name": "stdout",
     "text": "{}\n{}\n"
    }
   ],
   "source": [
    "x = dict()\n",
    "y = {}\n",
    "\n",
    "print(x)\n",
    "print(y)"
   ]
  },
  {
   "cell_type": "code",
   "execution_count": 40,
   "metadata": {},
   "outputs": [
    {
     "output_type": "error",
     "ename": "SyntaxError",
     "evalue": "invalid syntax (<ipython-input-40-6652cf9f661e>, line 8)",
     "traceback": [
      "\u001b[1;36m  File \u001b[1;32m\"<ipython-input-40-6652cf9f661e>\"\u001b[1;36m, line \u001b[1;32m8\u001b[0m\n\u001b[1;33m    key 와 value로 구성\u001b[0m\n\u001b[1;37m        ^\u001b[0m\n\u001b[1;31mSyntaxError\u001b[0m\u001b[1;31m:\u001b[0m invalid syntax\n"
     ]
    }
   ],
   "source": [
    "# key 와 value로 구성\n",
    "x = {\n",
    "    \"name\" : \"탯뇽\",\n",
    "    \"age\" : 20,\n",
    "}\n",
    "\n",
    "# key 값은 불변의 값만 넣을 수 잇음\n",
    "# list 값은 불가능 하다는 거지"
   ]
  },
  {
   "cell_type": "code",
   "execution_count": 38,
   "metadata": {},
   "outputs": [
    {
     "output_type": "stream",
     "name": "stdout",
     "text": "탯뇽\n20\n"
    }
   ],
   "source": [
    "print(x[\"name\"])\n",
    "print(x['age'])"
   ]
  },
  {
   "cell_type": "code",
   "execution_count": 42,
   "metadata": {},
   "outputs": [
    {
     "output_type": "stream",
     "name": "stdout",
     "text": "탯뇽\nhello\n20\n"
    }
   ],
   "source": [
    "x = {\n",
    "    0 : \"탯뇽\",\n",
    "    1 : \"hello\",\n",
    "    \"age\" : 20,\n",
    "}\n",
    "\n",
    "print(x[0])\n",
    "print(x[1])\n",
    "print(x['age'])"
   ]
  },
  {
   "cell_type": "code",
   "execution_count": 44,
   "metadata": {},
   "outputs": [
    {
     "output_type": "stream",
     "name": "stdout",
     "text": "True\nFalse\n"
    }
   ],
   "source": [
    "print(\"age\" in x) # age라는 key 가 x안에 들어 있나요?\n",
    "print(\"name\" in x) # name이라는 key가 x안에 들어 있나요?"
   ]
  },
  {
   "cell_type": "code",
   "execution_count": 50,
   "metadata": {},
   "outputs": [
    {
     "output_type": "stream",
     "name": "stdout",
     "text": "dict_keys([0, 1, 'age'])\ndict_values(['탯뇽', 'hello', 20])\n"
    }
   ],
   "source": [
    "print(x.keys()) # key 들을 출력\n",
    "print(x.values()) # value 들을 출력"
   ]
  },
  {
   "cell_type": "code",
   "execution_count": 57,
   "metadata": {},
   "outputs": [
    {
     "output_type": "stream",
     "name": "stdout",
     "text": "key : 0\nvalue : 탯뇽\nkey : 1\nvalue : hello\nkey : age\nvalue : 20\n"
    }
   ],
   "source": [
    "for key in x :\n",
    "    print(\"key : \" + str(key))\n",
    "    print(\"value : \" + str(x[key]))"
   ]
  },
  {
   "cell_type": "code",
   "execution_count": 64,
   "metadata": {},
   "outputs": [
    {
     "output_type": "stream",
     "name": "stdout",
     "text": "{0: '탯뇽', 1: 'hello', 'age': 20, 'school': '부경'}\n"
    }
   ],
   "source": [
    "x[0] = \"탯뇽\"\n",
    "print(x)\n",
    "\n",
    "x[\"school\"] = \"부경\" # 원래있는 값을 바꾸거나 새로운 값을 추가 할 수 있음."
   ]
  },
  {
   "cell_type": "markdown",
   "metadata": {},
   "source": [
    "## 자료구조 복습"
   ]
  },
  {
   "cell_type": "code",
   "execution_count": 67,
   "metadata": {},
   "outputs": [
    {
     "output_type": "stream",
     "name": "stdout",
     "text": "{'사과': 1}\n{'사과': 2}\n{'사과': 2, '바나나': 1}\n{'사과': 2, '바나나': 2}\n{'사과': 2, '바나나': 2, '딸기': 1}\n{'사과': 2, '바나나': 2, '딸기': 1, '키위': 1}\n{'사과': 2, '바나나': 2, '딸기': 1, '키위': 1, '복숭아': 1}\n{'사과': 2, '바나나': 2, '딸기': 1, '키위': 1, '복숭아': 2}\n{'사과': 2, '바나나': 2, '딸기': 1, '키위': 1, '복숭아': 3}\n{'사과': 2, '바나나': 2, '딸기': 1, '키위': 1, '복숭아': 3}\n"
    }
   ],
   "source": [
    "fruit = [\"사과\", \"사과\", '바나나', '바나나', '딸기', '키위', '복숭아', '복숭아', '복숭아'] # 복습 안하면 남지가 않음.\n",
    "# 예를들어 데이터가 100만개 가있는데 동일한 데이터의 갯수를 다세야한다면?\n",
    "# 프로그래밍을 못한다면 excel에서 ctrl + f 로 찾아서 ~~ 줄줄줄~ 언제다하냐\n",
    "\n",
    "\n",
    "d = {}\n",
    "\n",
    "for f in fruit :\n",
    "    # f = '사과'\n",
    "\n",
    "    if f in d : # '사과' 라는 key 가 d 라는 딕셔너리에 들어있어?\n",
    "        d[f] = d[f] + 1\n",
    "    else : \n",
    "        d[f] = 1 # 만약 '사과' 라는 애가 없으면, 그걸 딕셔너리에 넣고 벨류는 1로 만들어줘\n",
    "\n",
    "    print(d)\n"
   ]
  },
  {
   "cell_type": "code",
   "execution_count": 68,
   "metadata": {},
   "outputs": [
    {
     "output_type": "stream",
     "name": "stdout",
     "text": "{'사과': 2, '바나나': 2, '딸기': 1, '키위': 1, '복숭아': 3}\n"
    }
   ],
   "source": [
    "print(d)"
   ]
  },
  {
   "cell_type": "code",
   "execution_count": null,
   "metadata": {},
   "outputs": [],
   "source": []
  }
 ],
 "metadata": {
  "language_info": {
   "codemirror_mode": {
    "name": "ipython",
    "version": 3
   },
   "file_extension": ".py",
   "mimetype": "text/x-python",
   "name": "python",
   "nbconvert_exporter": "python",
   "pygments_lexer": "ipython3",
   "version": "3.7.6-final"
  },
  "orig_nbformat": 2,
  "kernelspec": {
   "name": "python3",
   "display_name": "Python 3"
  }
 },
 "nbformat": 4,
 "nbformat_minor": 2
}