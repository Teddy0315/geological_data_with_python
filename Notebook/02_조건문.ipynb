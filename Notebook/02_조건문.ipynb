{
 "cells": [
  {
   "cell_type": "markdown",
   "metadata": {},
   "source": [
    "## 조건문"
   ]
  },
  {
   "cell_type": "code",
   "execution_count": 1,
   "metadata": {},
   "outputs": [],
   "source": [
    "if 1 > 2 :\n",
    "    print(\"Hello\")"
   ]
  },
  {
   "cell_type": "code",
   "execution_count": 2,
   "metadata": {},
   "outputs": [
    {
     "output_type": "stream",
     "name": "stdout",
     "text": "Hello\n"
    }
   ],
   "source": [
    "if not 1 > 2 :\n",
    "    print(\"Hello\")"
   ]
  },
  {
   "cell_type": "code",
   "execution_count": 2,
   "metadata": {},
   "outputs": [],
   "source": [
    "if 0 > 0 and 2 > 1 :\n",
    "    print(\"Hello\")"
   ]
  },
  {
   "cell_type": "code",
   "execution_count": 3,
   "metadata": {},
   "outputs": [
    {
     "output_type": "stream",
     "name": "stdout",
     "text": "Hello\n"
    }
   ],
   "source": [
    "if 0 > 0 or 2 > 1 :\n",
    "    print(\"Hello\") # or 문은 둘 중 하나라도 참이면 출력함."
   ]
  },
  {
   "cell_type": "code",
   "execution_count": 6,
   "metadata": {},
   "outputs": [
    {
     "output_type": "stream",
     "name": "stdout",
     "text": "Hello\n"
    }
   ],
   "source": [
    "x = 3\n",
    "\n",
    "if x > 2:\n",
    "    print(\"Hello\") # 변수에 담아서도 조건물을 출력 가능."
   ]
  },
  {
   "cell_type": "code",
   "execution_count": 7,
   "metadata": {},
   "outputs": [
    {
     "output_type": "stream",
     "name": "stdout",
     "text": "Bye\n"
    }
   ],
   "source": [
    "x = 3 \n",
    "\n",
    "if x > 5 :\n",
    "    print(\"Hello\")\n",
    "elif x == 3 : # elif는 else if 라는 뜻, == 는 같다는 표시\n",
    "    print(\"Bye\")\n",
    "else :\n",
    "    print(\"Hi\")"
   ]
  },
  {
   "cell_type": "markdown",
   "metadata": {},
   "source": [
    "## 함수\n",
    "\n",
    "반복되는 코드를 그룹으로 모아둔 것."
   ]
  },
  {
   "cell_type": "code",
   "execution_count": 8,
   "metadata": {},
   "outputs": [
    {
     "output_type": "stream",
     "name": "stdout",
     "text": "철수 : 안녕? 넌 몇 살이니?\n영희 : 나? 나는 20\n"
    }
   ],
   "source": [
    "print(\"철수 : 안녕? 넌 몇 살이니?\")\n",
    "print(\"영희 : 나? 나는 20\")"
   ]
  },
  {
   "cell_type": "code",
   "execution_count": 9,
   "metadata": {},
   "outputs": [
    {
     "output_type": "stream",
     "name": "stdout",
     "text": "철수 : 안녕? 넌 몇 살이니?\n영희 : 나? 나는 20\n철수 : 안녕? 넌 몇 살이니?\n영희 : 나? 나는 20\n철수 : 안녕? 넌 몇 살이니?\n영희 : 나? 나는 20\n철수 : 안녕? 넌 몇 살이니?\n영희 : 나? 나는 20\n"
    }
   ],
   "source": [
    "print(\"철수 : 안녕? 넌 몇 살이니?\")\n",
    "print(\"영희 : 나? 나는 20\")\n",
    "print(\"철수 : 안녕? 넌 몇 살이니?\")\n",
    "print(\"영희 : 나? 나는 20\")\n",
    "print(\"철수 : 안녕? 넌 몇 살이니?\")\n",
    "print(\"영희 : 나? 나는 20\")\n",
    "print(\"철수 : 안녕? 넌 몇 살이니?\")\n",
    "print(\"영희 : 나? 나는 20\")"
   ]
  },
  {
   "cell_type": "code",
   "execution_count": 10,
   "metadata": {},
   "outputs": [
    {
     "output_type": "stream",
     "name": "stdout",
     "text": "철수 : 안녕? 넌 몇 살이니?\n영희 : 나? 나는 20\n철수 : 안녕? 넌 몇 살이니?\n영희 : 나? 나는 20\n철수 : 안녕? 넌 몇 살이니?\n영희 : 나? 나는 20\n철수 : 안녕? 넌 몇 살이니?\n영희 : 나? 나는 20\n"
    }
   ],
   "source": [
    "# 복사를 붙혀 넣어서 4번 할 수 있지만 코드를 보기 힘듬\n",
    "# 그룹핑을해서 더 간단히 가능\n",
    "\n",
    "def chat() : # definiation : 정의 , 뒤에는 함수 이름을 정의\n",
    "    print(\"철수 : 안녕? 넌 몇 살이니?\")\n",
    "    print(\"영희 : 나? 나는 20\")\n",
    "\n",
    "chat()\n",
    "chat()\n",
    "chat()\n",
    "chat()"
   ]
  },
  {
   "cell_type": "code",
   "execution_count": 13,
   "metadata": {},
   "outputs": [],
   "source": [
    "def chat() : # defination : 정의 , 뒤에는 함수 이름을 정의\n",
    "    print(\"알렉스 : 안녕? 넌 몇 살이니?\")\n",
    "    print(\"윤하 : 나? 나는 20\") "
   ]
  },
  {
   "cell_type": "code",
   "execution_count": 20,
   "metadata": {},
   "outputs": [
    {
     "output_type": "stream",
     "name": "stdout",
     "text": "알렉스 : 안녕? 넌 몇 살이니?\n윤하 : 나? 나는 20\n철수 : 안녕? 넌 몇 살이니?\n영희 : 나? 나는 20\n"
    }
   ],
   "source": [
    "def chat(name1, name2) : #인자를 받음.\n",
    "    print(\"%s : 안녕? 넌 몇 살이니?\" % name1)\n",
    "    print(\"%s : 나? 나는 20\" % name2) \n",
    "\n",
    "chat(\"알렉스\", \"윤하\")\n",
    "chat(\"철수\", \"영희\")"
   ]
  },
  {
   "cell_type": "code",
   "execution_count": 22,
   "metadata": {},
   "outputs": [
    {
     "output_type": "stream",
     "name": "stdout",
     "text": "알렉스 : 안녕? 넌 몇 살이니?\n윤하 : 나? 나는 10\n철수 : 안녕? 넌 몇 살이니?\n영희 : 나? 나는 30\n"
    }
   ],
   "source": [
    "def chat(name1, name2, age) :\n",
    "    print(\"%s : 안녕? 넌 몇 살이니?\" % name1) # %s, %d : 문자열, 숫자열 in C/C++\n",
    "    print(\"%s : 나? 나는 %d\" % (name2, age)) \n",
    "\n",
    "chat(\"알렉스\", \"윤하\", 10)\n",
    "chat(\"철수\", \"영희\", 30)"
   ]
  },
  {
   "cell_type": "code",
   "execution_count": 23,
   "metadata": {},
   "outputs": [
    {
     "output_type": "stream",
     "name": "stdout",
     "text": "3\n"
    }
   ],
   "source": [
    "def dsum(a, b) :\n",
    "    result = a + b\n",
    "    return result # return은 result라는 변수에 담겠다는 뜻\n",
    "\n",
    "d = dsum(1, 2)\n",
    "print(d)\n",
    "\n",
    "a = 1\n",
    "b = 2 \n",
    "c = a + b\n",
    "\n",
    "x = 1\n",
    "y = 2\n",
    "z = x + y"
   ]
  },
  {
   "cell_type": "code",
   "execution_count": 24,
   "metadata": {},
   "outputs": [
    {
     "output_type": "stream",
     "name": "stdout",
     "text": "6\n"
    }
   ],
   "source": [
    "def dsum(a, b) :\n",
    "    result = a + b\n",
    "    return result # return은 result라는 변수에 담겠다는 뜻\n",
    "\n",
    "d = dsum(2, 4)\n",
    "print(d)\n",
    "\n",
    "a = 1\n",
    "b = 2 \n",
    "c = a + b\n",
    "\n",
    "x = 1\n",
    "y = 2\n",
    "z = x + y"
   ]
  },
  {
   "cell_type": "code",
   "execution_count": 25,
   "metadata": {},
   "outputs": [
    {
     "output_type": "stream",
     "name": "stdout",
     "text": "6\nNone\n"
    }
   ],
   "source": [
    "def dsum(a, b) :\n",
    "    result = a + b\n",
    "    print(result)  # return은 result라는 변수에 담겠다는 뜻\n",
    "\n",
    "d = dsum(2, 4)\n",
    "print(d)\n",
    "\n",
    "# print를 사용하면 변수에 결과 값이 담기지 않음."
   ]
  },
  {
   "cell_type": "markdown",
   "metadata": {},
   "source": [
    "## 변수, 타입, 함수, 조건문 배움"
   ]
  },
  {
   "cell_type": "markdown",
   "metadata": {},
   "source": [
    "## 복습"
   ]
  },
  {
   "cell_type": "code",
   "execution_count": 30,
   "metadata": {},
   "outputs": [
    {
     "output_type": "stream",
     "name": "stdout",
     "text": "안녕 탯뇽\n안녕하세요 혜민\n안녕하십니까, 창민\n"
    }
   ],
   "source": [
    "# 먼저 이름과 나이를 받아라\n",
    "# 나이가 10살 미만이면 \"안녕\" 이라고 말해라\n",
    "# 나이가 10살에서 20살 사이면 \"안녕하세요\" 라고 말해라\n",
    "# 그 이외에는 \"안녕하십니까\" 라고 말해라\n",
    "\n",
    "def sayHello(name, age) :\n",
    "    if age < 10 :\n",
    "        print(\"안녕 \" + name)\n",
    "    elif age <= 20 and age >= 10 :\n",
    "        print(\"안녕하세요 \" + name)\n",
    "    else :\n",
    "        print(\"안녕하십니까, \" + name)\n",
    "\n",
    "sayHello(\"탯뇽\", 8)\n",
    "sayHello(\"혜민\", 20)\n",
    "sayHello(\"창민\", 40)"
   ]
  },
  {
   "cell_type": "code",
   "execution_count": null,
   "metadata": {},
   "outputs": [],
   "source": []
  }
 ],
 "metadata": {
  "language_info": {
   "codemirror_mode": {
    "name": "ipython",
    "version": 3
   },
   "file_extension": ".py",
   "mimetype": "text/x-python",
   "name": "python",
   "nbconvert_exporter": "python",
   "pygments_lexer": "ipython3",
   "version": "3.7.6-final"
  },
  "orig_nbformat": 2,
  "kernelspec": {
   "name": "python3",
   "display_name": "Python 3"
  }
 },
 "nbformat": 4,
 "nbformat_minor": 2
}