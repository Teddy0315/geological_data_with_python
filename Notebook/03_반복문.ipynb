{
 "cells": [
  {
   "cell_type": "code",
   "execution_count": 1,
   "metadata": {},
   "outputs": [
    {
     "output_type": "stream",
     "name": "stdout",
     "text": "철수 : 안녕 영희야 뭐해?\n영희 : 안녕 철수야, 그냥 있어.\n"
    }
   ],
   "source": [
    "print(\"철수 : 안녕 영희야 뭐해?\")\n",
    "print(\"영희 : 안녕 철수야, 그냥 있어.\")"
   ]
  },
  {
   "cell_type": "code",
   "execution_count": 2,
   "metadata": {},
   "outputs": [
    {
     "output_type": "stream",
     "name": "stdout",
     "text": "철수 : 안녕 영희야 뭐해?\n영희 : 안녕 철수야, 그냥 있어.\n철수 : 안녕 영희야 뭐해?\n영희 : 안녕 철수야, 그냥 있어.\n철수 : 안녕 영희야 뭐해?\n영희 : 안녕 철수야, 그냥 있어.\n철수 : 안녕 영희야 뭐해?\n영희 : 안녕 철수야, 그냥 있어.\n"
    }
   ],
   "source": [
    "print(\"철수 : 안녕 영희야 뭐해?\")\n",
    "print(\"영희 : 안녕 철수야, 그냥 있어.\")\n",
    "print(\"철수 : 안녕 영희야 뭐해?\")\n",
    "print(\"영희 : 안녕 철수야, 그냥 있어.\")\n",
    "print(\"철수 : 안녕 영희야 뭐해?\")\n",
    "print(\"영희 : 안녕 철수야, 그냥 있어.\")\n",
    "print(\"철수 : 안녕 영희야 뭐해?\")\n",
    "print(\"영희 : 안녕 철수야, 그냥 있어.\")"
   ]
  },
  {
   "cell_type": "code",
   "execution_count": 4,
   "metadata": {},
   "outputs": [
    {
     "output_type": "stream",
     "name": "stdout",
     "text": "0\n철수 : 안녕 영희야 뭐해?\n영희 : 안녕 철수야, 그냥 있어.\n1\n철수 : 안녕 영희야 뭐해?\n영희 : 안녕 철수야, 그냥 있어.\n2\n철수 : 안녕 영희야 뭐해?\n영희 : 안녕 철수야, 그냥 있어.\n3\n철수 : 안녕 영희야 뭐해?\n영희 : 안녕 철수야, 그냥 있어.\n4\n철수 : 안녕 영희야 뭐해?\n영희 : 안녕 철수야, 그냥 있어.\n5\n철수 : 안녕 영희야 뭐해?\n영희 : 안녕 철수야, 그냥 있어.\n6\n철수 : 안녕 영희야 뭐해?\n영희 : 안녕 철수야, 그냥 있어.\n7\n철수 : 안녕 영희야 뭐해?\n영희 : 안녕 철수야, 그냥 있어.\n8\n철수 : 안녕 영희야 뭐해?\n영희 : 안녕 철수야, 그냥 있어.\n9\n철수 : 안녕 영희야 뭐해?\n영희 : 안녕 철수야, 그냥 있어.\n"
    }
   ],
   "source": [
    "# 코드가 계속 길어지기 때문에 반복문을 사용\n",
    "\n",
    "# for, while 두가지가 있음\n",
    "\n",
    "for i in range(10) : # i가 첫번째인지 두번쨰인지 확인할 수 있도록 넣는다는 뜻임.\n",
    "    print(i)\n",
    "    print(\"철수 : 안녕 영희야 뭐해?\")\n",
    "    print(\"영희 : 안녕 철수야, 그냥 있어.\") # 코드가 짧아진것이 확인 가능"
   ]
  },
  {
   "cell_type": "code",
   "execution_count": 5,
   "metadata": {},
   "outputs": [
    {
     "output_type": "stream",
     "name": "stdout",
     "text": "0\n철수 : 안녕 영희야 뭐해?\n영희 : 안녕 철수야, 그냥 있어.\n1\n철수 : 안녕 영희야 뭐해?\n영희 : 안녕 철수야, 그냥 있어.\n2\n철수 : 안녕 영희야 뭐해?\n영희 : 안녕 철수야, 그냥 있어.\n"
    }
   ],
   "source": [
    "for i in range(3) : # i가 첫번째인지 두번쨰인지 확인할 수 있도록 넣는다는 뜻임.\n",
    "    print(i)\n",
    "    print(\"철수 : 안녕 영희야 뭐해?\")\n",
    "    print(\"영희 : 안녕 철수야, 그냥 있어.\") # 코드가 짧아진것이 확인 가능, for loop or for 반복문 이라고 말함."
   ]
  },
  {
   "cell_type": "code",
   "execution_count": 7,
   "metadata": {},
   "outputs": [
    {
     "output_type": "stream",
     "name": "stdout",
     "text": "0\n철수 : 안녕 영희야 뭐해?\n영희 : 안녕 철수야, 그냥 있어.\n1\n철수 : 안녕 영희야 뭐해?\n영희 : 안녕 철수야, 그냥 있어.\n2\n철수 : 안녕 영희야 뭐해?\n영희 : 안녕 철수야, 그냥 있어.\n"
    }
   ],
   "source": [
    "i = 0\n",
    "\n",
    "while i < 3 : # while 반복문은 조건을 걸 수가 있음.\n",
    "    print(i)\n",
    "    print(\"철수 : 안녕 영희야 뭐해?\")\n",
    "    print(\"영희 : 안녕 철수야, 그냥 있어.\") # 코드가 짧아진것이 확인 가능\n",
    "    i = i + 1 # i = 0 + 1 = 1"
   ]
  },
  {
   "cell_type": "code",
   "execution_count": 8,
   "metadata": {},
   "outputs": [
    {
     "output_type": "stream",
     "name": "stdout",
     "text": "0\n철수 : 안녕 영희야 뭐해?\n영희 : 안녕 철수야, 그냥 있어.\n1\n철수 : 안녕 영희야 뭐해?\n영희 : 안녕 철수야, 그냥 있어.\n2\n철수 : 안녕 영희야 뭐해?\n영희 : 안녕 철수야, 그냥 있어.\n3\n철수 : 안녕 영희야 뭐해?\n영희 : 안녕 철수야, 그냥 있어.\n"
    }
   ],
   "source": [
    "i = 0\n",
    "\n",
    "while i <= 3 : # while 반복문은 조건을 걸 수가 있음.\n",
    "    print(i)\n",
    "    print(\"철수 : 안녕 영희야 뭐해?\")\n",
    "    print(\"영희 : 안녕 철수야, 그냥 있어.\") # 코드가 짧아진것이 확인 가능\n",
    "    i = i + 1 # i = 0 + 1 = 1"
   ]
  },
  {
   "cell_type": "code",
   "execution_count": 9,
   "metadata": {},
   "outputs": [
    {
     "output_type": "stream",
     "name": "stdout",
     "text": "0\n철수 : 안녕 영희야 뭐해?\n영희 : 안녕 철수야, 그냥 있어.\n1\n철수 : 안녕 영희야 뭐해?\n영희 : 안녕 철수야, 그냥 있어.\n2\n철수 : 안녕 영희야 뭐해?\n영희 : 안녕 철수야, 그냥 있어.\n"
    }
   ],
   "source": [
    "# 무한루프를 탈출 하는 방법\n",
    "# break, continue\n",
    "\n",
    "i = 0\n",
    "while True :\n",
    "    print(i)\n",
    "    print(\"철수 : 안녕 영희야 뭐해?\")\n",
    "    print(\"영희 : 안녕 철수야, 그냥 있어.\") # 코드가 짧아진것이 확인 가능\n",
    "    i = i + 1 \n",
    "\n",
    "    if i > 2 :\n",
    "        break\n",
    "    "
   ]
  },
  {
   "cell_type": "code",
   "execution_count": 10,
   "metadata": {},
   "outputs": [
    {
     "output_type": "stream",
     "name": "stdout",
     "text": "0\n철수 : 안녕 영희야 뭐해?\n영희 : 안녕 철수야, 그냥 있어.\n1\n철수 : 안녕 영희야 뭐해?\n영희 : 안녕 철수야, 그냥 있어.\n2\n철수 : 안녕 영희야 뭐해?\n영희 : 안녕 철수야, 그냥 있어.\n"
    }
   ],
   "source": [
    "i = 0\n",
    "for i in range(100) :\n",
    "    print(i) # 0\n",
    "    print(\"철수 : 안녕 영희야 뭐해?\")\n",
    "    print(\"영희 : 안녕 철수야, 그냥 있어.\") # 코드가 짧아진것이 확인 가능\n",
    "    i = i + 1 \n",
    "\n",
    "    if i > 2 : # i 가 100번 까지 안돌고 2번에서 끝남.\n",
    "        break\n",
    "    "
   ]
  },
  {
   "cell_type": "code",
   "execution_count": 15,
   "metadata": {},
   "outputs": [
    {
     "output_type": "stream",
     "name": "stdout",
     "text": "0\n철수 : 안녕 영희야 뭐해?\n영희 : 안녕 철수야, 그냥 있어.\n탯뇽 : 안녕 철수와 영희야!\n1\n철수 : 안녕 영희야 뭐해?\n영희 : 안녕 철수야, 그냥 있어.\n2\n철수 : 안녕 영희야 뭐해?\n영희 : 안녕 철수야, 그냥 있어.\n탯뇽 : 안녕 철수와 영희야!\n3\n철수 : 안녕 영희야 뭐해?\n영희 : 안녕 철수야, 그냥 있어.\n탯뇽 : 안녕 철수와 영희야!\n"
    }
   ],
   "source": [
    "for i in range(4) :\n",
    "    print(i) # 0\n",
    "    print(\"철수 : 안녕 영희야 뭐해?\")\n",
    "    print(\"영희 : 안녕 철수야, 그냥 있어.\") # 코드가 짧아진것이 확인 가능\n",
    "    \n",
    "    if i == 1:\n",
    "        continue # continue문을 만나면 다시 돌아감.\n",
    "\n",
    "    print(\"탯뇽 : 안녕 철수와 영희야!\")    "
   ]
  },
  {
   "cell_type": "code",
   "execution_count": null,
   "metadata": {},
   "outputs": [],
   "source": []
  }
 ],
 "metadata": {
  "language_info": {
   "codemirror_mode": {
    "name": "ipython",
    "version": 3
   },
   "file_extension": ".py",
   "mimetype": "text/x-python",
   "name": "python",
   "nbconvert_exporter": "python",
   "pygments_lexer": "ipython3",
   "version": "3.7.6-final"
  },
  "orig_nbformat": 2,
  "kernelspec": {
   "name": "python3",
   "display_name": "Python 3"
  }
 },
 "nbformat": 4,
 "nbformat_minor": 2
}